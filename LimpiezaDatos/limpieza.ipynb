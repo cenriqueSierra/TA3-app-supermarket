{
 "cells": [
  {
   "cell_type": "code",
   "execution_count": null,
   "metadata": {},
   "outputs": [
    {
     "ename": "",
     "evalue": "",
     "output_type": "error",
     "traceback": [
      "\u001b[1;31mNo se puede iniciar Jupyter. Error al intentar buscar Jupyter: Las celdas en ejecución requieren notebook y jupyter paquete.\n",
      "\u001b[1;31mEjecute el siguiente comando para instalar 'jupyter y notebook' en el entorno de Python. comando \n",
      "\u001b[1;31m: 'python -m pip install jupyter notebook -U\n",
      "\u001b[1;31mor\n",
      "\u001b[1;31mconda install jupyter notebook -U'\n",
      "\u001b[1;31mHaga clic <a href='https://aka.ms/installJupyterForVSCode'>aquí</a> para obtener más información."
     ]
    }
   ],
   "source": [
    "import pandas as pd\n",
    "fg1 = pd.read_csv(\"./Stores.csv\")\n",
    "df = pd.concat([fg1])\n",
    "df = df.dropna()\n",
    "df.to_csv('cleanList.csv')\n",
    "'''df.head()'''\n"
   ]
  },
  {
   "cell_type": "code",
   "execution_count": null,
   "metadata": {},
   "outputs": [],
   "source": []
  },
  {
   "cell_type": "markdown",
   "metadata": {},
   "source": []
  }
 ],
 "metadata": {
  "kernelspec": {
   "display_name": "Python 3",
   "language": "python",
   "name": "python3"
  },
  "language_info": {
   "codemirror_mode": {
    "name": "ipython",
    "version": 3
   },
   "file_extension": ".py",
   "mimetype": "text/x-python",
   "name": "python",
   "nbconvert_exporter": "python",
   "pygments_lexer": "ipython3",
   "version": "3.10.6 (main, Nov 14 2022, 16:10:14) [GCC 11.3.0]"
  },
  "orig_nbformat": 4,
  "vscode": {
   "interpreter": {
    "hash": "916dbcbb3f70747c44a77c7bcd40155683ae19c65e1c03b4aa3499c5328201f1"
   }
  }
 },
 "nbformat": 4,
 "nbformat_minor": 2
}
